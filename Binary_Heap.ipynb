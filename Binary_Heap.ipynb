{
  "nbformat": 4,
  "nbformat_minor": 0,
  "metadata": {
    "colab": {
      "name": "Untitled4.ipynb",
      "provenance": []
    },
    "kernelspec": {
      "name": "python3",
      "display_name": "Python 3"
    },
    "language_info": {
      "name": "python"
    }
  },
  "cells": [
    {
      "cell_type": "markdown",
      "source": [
        "Binary Heap Implementation"
      ],
      "metadata": {
        "id": "0VHxJIGw5VA_"
      }
    },
    {
      "cell_type": "code",
      "source": [
        "class BinaryHeap():\n",
        "\n",
        "  def __init__(self):\n",
        "    self.heapList=[0]\n",
        "    self.currentSize=0\n",
        "\n",
        "  def percUp(self,i):\n",
        "    '''\n",
        "    This method is being called from \n",
        "    the insertion method and it is mainly \n",
        "    for fixing the order in the binary heap\n",
        "    '''\n",
        "    while i//2>0:\n",
        "      # compares the parent and child\n",
        "      # the new node is placed at index i (appended)\n",
        "      if self.heapList[i]<self.heapList[i//2]:\n",
        "        temp=self.heapList[i//2]\n",
        "        self.heapList[i//2]=self.heapList[i]\n",
        "        self.heapList[i]=temp\n",
        "      i=i//2 # moves up the tree\n",
        "  \n",
        "  def insert(self,k):\n",
        "    self.heapList.append(k)\n",
        "    self.currentSize+=1\n",
        "    self.percUp(self.currentSize)\n",
        "\n",
        "  \n",
        "  def percDown(self,i):\n",
        "    while(i*2<self.currentSize):\n",
        "      min_child=self.minChild(i)\n",
        "      if self.heapList[i]>self.heapList[min_child]:\n",
        "        temp=self.heapList[i]\n",
        "        self.heapList[i]=self.heapList[min_child]\n",
        "        self.heapList[min_child]=temp\n",
        "      i=min_child\n",
        "\n",
        "  def minChild(self,i):\n",
        "    if i*2+1>self.currentSize:\n",
        "      return i*2\n",
        "    else:\n",
        "      if self.heapList[i*2]<self.heapList[i*2+1]:\n",
        "        return i*2\n",
        "      else:\n",
        "        return i*2+1\n",
        "\n",
        "  def delMin(self):\n",
        "    retval=self.heapList[1]\n",
        "    self.heapList[1]=self.heapList[self.currentSize]\n",
        "    self.currentSize=self.currentSize-1\n",
        "    self.heapList.pop()\n",
        "    self.percDown(1)\n",
        "    return retval\n",
        "\n",
        "  def buildHeap(self,alist):\n",
        "    i = len(alist) // 2\n",
        "    self.currentSize = len(alist)\n",
        "    self.heapList = [0] + alist[:]\n",
        "    while (i > 0):\n",
        "      self.percDown(i)\n",
        "      i = i - 1\n"
      ],
      "metadata": {
        "id": "c45V7K0k5Yfo"
      },
      "execution_count": 2,
      "outputs": []
    },
    {
      "cell_type": "code",
      "source": [
        ""
      ],
      "metadata": {
        "id": "PZzcqiHgCuBP"
      },
      "execution_count": null,
      "outputs": []
    }
  ]
}